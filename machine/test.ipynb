{
 "cells": [
  {
   "cell_type": "code",
   "execution_count": 1,
   "id": "499e17ba",
   "metadata": {},
   "outputs": [],
   "source": [
    "# Import necessary libraries\n",
    "from typing import Dict, List, Any\n",
    "from langchain.agents import AgentExecutor, create_openai_tools_agent\n",
    "from langchain_core.prompts import ChatPromptTemplate, MessagesPlaceholder\n",
    "from langchain_core.messages import SystemMessage, HumanMessage, AIMessage\n",
    "from langchain.tools import BaseTool\n",
    "from langchain_core.tools import Tool\n",
    "# Updated import for memory\n",
    "from langchain_core.chat_history import BaseChatMessageHistory\n",
    "from langchain_core.runnables.history import RunnableWithMessageHistory\n",
    "from langchain.memory import ChatMessageHistory\n",
    "from langchain_ollama import ChatOllama\n",
    "from pydantic import BaseModel, Field\n",
    "import re"
   ]
  },
  {
   "cell_type": "code",
   "execution_count": 2,
   "id": "470dbbd3",
   "metadata": {},
   "outputs": [],
   "source": [
    "llm = ChatOllama(model=\"llama3.2:1b\", temperature=0)\n"
   ]
  },
  {
   "cell_type": "code",
   "execution_count": 3,
   "id": "50efba03",
   "metadata": {},
   "outputs": [],
   "source": [
    "class QuestionGeneratorInput(BaseModel):\n",
    "    language: str = Field(description=\"Programming language for the question\")\n",
    "    field: str = Field(description=\"Technical field for the question\")\n",
    "    dsa: str = Field(description=\"Data structure or algorithm focus\")\n",
    "    difficulty: str = Field(description=\"Difficulty level: easy, medium, or hard\")\n",
    "\n",
    "class EvaluationInput(BaseModel):\n",
    "    answer: str = Field(description=\"User's answer to evaluate\")\n",
    "    question: str = Field(description=\"The question that was asked\")\n",
    "    difficulty: str = Field(description=\"Difficulty level of the question\")\n",
    "\n",
    "class QuestionSelectorInput(BaseModel):\n",
    "    current_difficulty: str = Field(description=\"Current difficulty level\")\n",
    "    eval_score: int = Field(description=\"Current evaluation score\")\n",
    "    question_count: int = Field(description=\"Number of questions asked so far\")\n",
    "\n",
    "class ReportGeneratorInput(BaseModel):\n",
    "    answers: List[str] = Field(description=\"List of all user answers\")\n",
    "    eval_scores: List[int] = Field(description=\"List of evaluation scores\")\n",
    "    difficulty_counts: Dict[str, int] = Field(description=\"Count of questions by difficulty\")"
   ]
  },
  {
   "cell_type": "code",
   "execution_count": 4,
   "id": "40dcafaf",
   "metadata": {},
   "outputs": [],
   "source": [
    "def question_generator(input_data: QuestionGeneratorInput) -> str:\n",
    "    \"\"\"Generate a question based on language, field, DSA concept and difficulty level.\"\"\"\n",
    "    prompt = f\"You are a teacher with expertise in {input_data.language}, {input_data.field}, and {input_data.dsa}. Ask a {input_data.difficulty} level question.\"\n",
    "    return llm.invoke(prompt).content"
   ]
  },
  {
   "cell_type": "code",
   "execution_count": 5,
   "id": "de36aa8e",
   "metadata": {},
   "outputs": [],
   "source": [
    "def evaluate_answer(input_data: EvaluationInput) -> Dict[str, Any]:\n",
    "\t\"\"\"you are a highly educated expert and your job is to perform strict evaluation of the answer based on the given question\"\"\"\n",
    "\t# Simple evaluation logic - can be made more sophisticated\n",
    "\tprompt = f\"\"\"you are a highly educated expert and your job is to perform strict evaluation of the answer based on the given question\"{input_data.question}\" \n",
    "\tAnd the answer: \"{input_data.answer}\"\n",
    "\tEvaluate this {input_data.difficulty} level answer on a scale of 0-10.\n",
    "\tmake sure to respond with a number between 0 and 10.\"\"\"\n",
    "\tscore = llm.invoke(prompt)\n",
    "\ttry:\n",
    "\t\tmatch = re.search(r'\\d+', score.content)\n",
    "\t\tif match:\n",
    "\t\t\t\treturn int(match.group())\n",
    "\texcept:\n",
    "\t\treturn 5\n",
    "\n",
    "\n",
    "\n",
    "\n"
   ]
  },
  {
   "cell_type": "code",
   "execution_count": 6,
   "id": "55becd7a",
   "metadata": {},
   "outputs": [],
   "source": [
    "def choose_next_question(input_data: QuestionSelectorInput) -> Dict[str, Any]:\n",
    "    \"\"\"Choose the next question difficulty based on performance.\"\"\"\n",
    "    curr_type = input_data.current_difficulty\n",
    "    eval_score = input_data.eval_score\n",
    "    question_count = input_data.question_count\n",
    "    \n",
    "    if curr_type == \"easy\" and eval_score >= 5:\n",
    "        new_type = \"medium\"\n",
    "    elif curr_type == \"medium\":\n",
    "        if eval_score >= 8:\n",
    "            new_type = \"hard\"\n",
    "        elif eval_score < 5:\n",
    "            new_type = \"easy\"\n",
    "        else:\n",
    "            new_type = \"medium\"\n",
    "    elif curr_type == \"hard\" and eval_score < 7:\n",
    "        new_type = \"medium\"\n",
    "    else:\n",
    "        new_type = curr_type\n",
    "\n",
    "    should_continue = question_count < 15\n",
    "    \n",
    "    return {\n",
    "        \"new_difficulty\": new_type,\n",
    "        \"should_continue\": should_continue\n",
    "    }"
   ]
  },
  {
   "cell_type": "code",
   "execution_count": 7,
   "id": "76c53ead",
   "metadata": {},
   "outputs": [],
   "source": [
    "def generate_final_report(input_data: ReportGeneratorInput) -> str:\n",
    "    \"\"\"Generate a final report of the user's performance.\"\"\"\n",
    "    prompt = f\"\"\"Based on these answers and scores, write a short evaluation highlighting strengths, weaknesses, and areas for improvement:\n",
    "    - Number of easy questions answered: {input_data.difficulty_counts.get('easy', 0)}\n",
    "    - Number of medium questions answered: {input_data.difficulty_counts.get('medium', 0)}\n",
    "    - Number of hard questions answered: {input_data.difficulty_counts.get('hard', 0)}\n",
    "    - Average score: {sum(input_data.eval_scores) / len(input_data.eval_scores) if input_data.eval_scores else 0}\n",
    "    \"\"\"\n",
    "    return llm.invoke(prompt).content"
   ]
  },
  {
   "cell_type": "code",
   "execution_count": 8,
   "id": "3ddff0eb",
   "metadata": {},
   "outputs": [],
   "source": [
    "system_prompt = \"\"\"You are an adaptive quiz agent. Your job is to:\n",
    "1. Ask questions about programming topics based on language, field, and data structures/algorithms\n",
    "2. Evaluate user answers\n",
    "3. Adjust difficulty based on performance\n",
    "4. Generate a final report after 15 questions\n",
    "\n",
    "Follow this process:\n",
    "1. Start with an easy question about the specified language, field, and DSA concept\n",
    "2. After receiving an answer, evaluate it\n",
    "3. Determine the next question's difficulty based on performance\n",
    "4. After 15 questions, generate a final report\n",
    "\n",
    "Track the following:\n",
    "- Current difficulty level (starts as \"easy\")\n",
    "- Total evaluation score\n",
    "- Question count\n",
    "- Number of easy/medium/hard questions answered\n",
    "- List of all answers and their evaluation scores\n",
    "\n",
    "When generating the final report, analyze the user's performance and provide specific feedback.\n",
    "You have to ask the questions and evaluate answers\n",
    "\"\"\""
   ]
  },
  {
   "cell_type": "code",
   "execution_count": 9,
   "id": "bba586a1",
   "metadata": {},
   "outputs": [],
   "source": [
    "from typing import Annotated\n",
    "from typing_extensions import TypedDict\n",
    "from langgraph.graph import StateGraph,START, END\n",
    "from langgraph.graph.message import add_messages\n",
    "\n",
    "\n",
    "class chatstate(TypedDict):\n",
    "\tmessages: Annotated[list, add_messages]\n",
    "\n",
    "\n",
    "graph = StateGraph(chatstate)\n"
   ]
  },
  {
   "cell_type": "code",
   "execution_count": 10,
   "id": "d3d339b4",
   "metadata": {},
   "outputs": [],
   "source": [
    "def end_quiz(i):\n",
    "    if i<15:\n",
    "        return \"next question\"\n",
    "    else:\n",
    "        return \"create report\"\n",
    "    "
   ]
  },
  {
   "cell_type": "code",
   "execution_count": 11,
   "id": "d64516ca",
   "metadata": {},
   "outputs": [
    {
     "data": {
      "text/plain": [
       "<langgraph.graph.state.StateGraph at 0x1f8e785eba0>"
      ]
     },
     "execution_count": 11,
     "metadata": {},
     "output_type": "execute_result"
    }
   ],
   "source": [
    "graph.add_node(\"question_generator\",question_generator)\n",
    "graph.add_node(\"evaluate_answer\",evaluate_answer)\n",
    "graph.add_node(\"choose_next_question\",choose_next_question)\n",
    "graph.add_node(\"generate_final_report\",generate_final_report)\n",
    "\n"
   ]
  },
  {
   "cell_type": "code",
   "execution_count": 12,
   "id": "8fa8070e",
   "metadata": {},
   "outputs": [
    {
     "data": {
      "text/plain": [
       "<langgraph.graph.state.StateGraph at 0x1f8e785eba0>"
      ]
     },
     "execution_count": 12,
     "metadata": {},
     "output_type": "execute_result"
    }
   ],
   "source": [
    "\n",
    "graph.add_edge(START,\"question_generator\")\n",
    "graph.add_edge(\"question_generator\",\"evaluate_answer\")\n",
    "graph.add_edge(\"evaluate_answer\",\"choose_next_question\")\n",
    "# graph.add_edge(\"choose_next_question\",\"question_generator\")\n"
   ]
  },
  {
   "cell_type": "code",
   "execution_count": 13,
   "id": "fc0df299",
   "metadata": {},
   "outputs": [
    {
     "data": {
      "text/plain": [
       "<langgraph.graph.state.StateGraph at 0x1f8e785eba0>"
      ]
     },
     "execution_count": 13,
     "metadata": {},
     "output_type": "execute_result"
    }
   ],
   "source": [
    "graph.add_conditional_edges(\"choose_next_question\",\n",
    "                            end_quiz,{\n",
    "                                \n",
    "\t\t\t\t\t\t\t\t\t\t\t\t\t\t\t\t\t\t\t\t\t\t\t\t\t\t\t\t\n",
    "                            \"next question\": \"question_generator\",\n",
    "                            \"create report\" : \"generate_final_report\"\n",
    "\t\t\t\t\t\t\t\t\t\t\t\t\t\t\t\t\t\t\t\t\t\t\t\t\t\t\t\t}\n",
    "                            )"
   ]
  },
  {
   "cell_type": "code",
   "execution_count": 14,
   "id": "04cf50b8",
   "metadata": {},
   "outputs": [],
   "source": [
    "builder = graph.compile()"
   ]
  },
  {
   "cell_type": "code",
   "execution_count": 15,
   "id": "e27a4676",
   "metadata": {},
   "outputs": [
    {
     "data": {
      "image/png": "[encoded data removed]",
      "text/plain": [
       "<IPython.core.display.Image object>"
      ]
     },
     "metadata": {},
     "output_type": "display_data"
    }
   ],
   "source": [
    "from IPython.display import Image, display\n",
    "\n",
    "display(Image(builder.get_graph().draw_mermaid_png()))"
   ]
  },
  {
   "cell_type": "code",
   "execution_count": 16,
   "id": "38d34be5",
   "metadata": {},
   "outputs": [
    {
     "ename": "TypeError",
     "evalue": "Pregel.invoke() missing 1 required positional argument: 'input'",
     "output_type": "error",
     "traceback": [
      "\u001b[31m---------------------------------------------------------------------------\u001b[39m",
      "\u001b[31mTypeError\u001b[39m                                 Traceback (most recent call last)",
      "\u001b[36mCell\u001b[39m\u001b[36m \u001b[39m\u001b[32mIn[16]\u001b[39m\u001b[32m, line 1\u001b[39m\n\u001b[32m----> \u001b[39m\u001b[32m1\u001b[39m \u001b[43mbuilder\u001b[49m\u001b[43m.\u001b[49m\u001b[43minvoke\u001b[49m\u001b[43m(\u001b[49m\u001b[43m)\u001b[49m\n",
      "\u001b[31mTypeError\u001b[39m: Pregel.invoke() missing 1 required positional argument: 'input'"
     ]
    }
   ],
   "source": [
    "builder.invoke()"
   ]
  },
  {
   "cell_type": "code",
   "execution_count": null,
   "id": "98f2ef54",
   "metadata": {},
   "outputs": [],
   "source": []
  }
 ],
 "metadata": {
  "kernelspec": {
   "display_name": ".venv",
   "language": "python",
   "name": "python3"
  },
  "language_info": {
   "codemirror_mode": {
    "name": "ipython",
    "version": 3
   },
   "file_extension": ".py",
   "mimetype": "text/x-python",
   "name": "python",
   "nbconvert_exporter": "python",
   "pygments_lexer": "ipython3",
   "version": "3.12.8"
  }
 },
 "nbformat": 4,
 "nbformat_minor": 5
}
